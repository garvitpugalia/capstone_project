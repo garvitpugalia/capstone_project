{
  "nbformat": 4,
  "nbformat_minor": 0,
  "metadata": {
    "colab": {
      "provenance": [],
      "collapsed_sections": [
        "p_GcVeAc2pI8"
      ],
      "gpuType": "T4"
    },
    "kernelspec": {
      "name": "python3",
      "display_name": "Python 3"
    },
    "language_info": {
      "name": "python"
    },
    "accelerator": "GPU"
  },
  "cells": [
    {
      "cell_type": "markdown",
      "source": [
        "# Setup"
      ],
      "metadata": {
        "id": "p_GcVeAc2pI8"
      }
    },
    {
      "cell_type": "code",
      "execution_count": 1,
      "metadata": {
        "id": "T9nqg2mAcOi0"
      },
      "outputs": [],
      "source": [
        "import tensorflow as tf\n",
        "from tensorflow.keras.models import Model\n",
        "from tensorflow.keras.layers import Input, Conv2D, MaxPooling2D, UpSampling2D, concatenate\n",
        "from tensorflow.keras.applications import VGG16, ResNet50\n",
        "from tensorflow.keras.optimizers import Adam\n",
        "from tensorflow.keras.losses import MeanSquaredError\n",
        "from tensorflow.keras.metrics import MeanAbsoluteError\n",
        "from tensorflow.keras.callbacks import EarlyStopping, ModelCheckpoint\n",
        "from skimage.metrics import structural_similarity as ssim\n",
        "import numpy as np\n",
        "import os\n",
        "from tensorflow.keras.preprocessing.image import load_img, img_to_array\n",
        "from sklearn.model_selection import train_test_split"
      ]
    },
    {
      "cell_type": "markdown",
      "source": [
        "# Dataset and Models"
      ],
      "metadata": {
        "id": "HYc9Ykxw2qnu"
      }
    },
    {
      "cell_type": "markdown",
      "source": [
        "## Datasets"
      ],
      "metadata": {
        "id": "LnQa-GIx2tDZ"
      }
    },
    {
      "cell_type": "code",
      "source": [
        "def load_images_and_shadow_maps(images_dir, shadow_maps_dir, image_size=(256, 256)):\n",
        "    images = []\n",
        "    shadow_maps = []\n",
        "    for img_name in os.listdir(images_dir):\n",
        "        img_path = os.path.join(images_dir, img_name)\n",
        "        shadow_map_path = os.path.join(shadow_maps_dir, img_name)\n",
        "\n",
        "        # Load and preprocess images\n",
        "        image = load_img(img_path, target_size=image_size)\n",
        "        image = img_to_array(image) / 255.0  # Normalize\n",
        "\n",
        "        # Load and preprocess shadow maps\n",
        "        shadow_map = load_img(shadow_map_path, color_mode='grayscale', target_size=image_size)\n",
        "        shadow_map = img_to_array(shadow_map) / 255.0  # Normalize\n",
        "\n",
        "        images.append(image)\n",
        "        shadow_maps.append(shadow_map)\n",
        "\n",
        "    return np.array(images), np.array(shadow_maps)\n",
        "\n",
        "# Load training data\n",
        "train_images_dir = '/content/drive/MyDrive/Capstone/ISTD/data/train/images'\n",
        "train_shadow_maps_dir = '/content/drive/MyDrive/Capstone/ISTD/data/train/shadow_maps'\n",
        "x_train, y_train = load_images_and_shadow_maps(train_images_dir, train_shadow_maps_dir)\n",
        "x_train, x_val, y_train, y_val = train_test_split(x_train, y_train, test_size=0.2, random_state=42)\n",
        "\n",
        "# Load test data\n",
        "test_images_dir = '/content/drive/MyDrive/Capstone/ISTD/data/test/images'\n",
        "test_shadow_maps_dir = '/content/drive/MyDrive/Capstone/ISTD/data/test/shadow_maps'\n",
        "x_test, y_test = load_images_and_shadow_maps(test_images_dir, test_shadow_maps_dir)\n",
        "\n",
        "print(f'Train images shape: {x_train.shape}, Train shadow maps shape: {y_train.shape}')\n",
        "print(f'Validation images shape: {x_val.shape}, Validation shadow maps shape: {y_val.shape}')\n",
        "print(f'Test images shape: {x_test.shape}, Test shadow maps shape: {y_test.shape}')"
      ],
      "metadata": {
        "colab": {
          "base_uri": "https://localhost:8080/"
        },
        "id": "fnBBTL2W2sci",
        "outputId": "b5417534-bab4-422c-fb24-2d59b5ca7edf"
      },
      "execution_count": 2,
      "outputs": [
        {
          "output_type": "stream",
          "name": "stdout",
          "text": [
            "Train images shape: (1064, 256, 256, 3), Train shadow maps shape: (1064, 256, 256, 1)\n",
            "Validation images shape: (266, 256, 256, 3), Validation shadow maps shape: (266, 256, 256, 1)\n",
            "Test images shape: (540, 256, 256, 3), Test shadow maps shape: (540, 256, 256, 1)\n"
          ]
        }
      ]
    },
    {
      "cell_type": "markdown",
      "source": [
        "## Models"
      ],
      "metadata": {
        "id": "CPVwnsBJ9gpI"
      }
    },
    {
      "cell_type": "code",
      "source": [
        "# Baseline CNN model for comparison\n",
        "def simple_model(input_shape):\n",
        "    inputs = Input(input_shape)\n",
        "    conv1 = Conv2D(32, (3, 3), activation='relu', padding='same')(inputs)\n",
        "    pool1 = MaxPooling2D((2, 2))(conv1)\n",
        "    conv2 = Conv2D(64, (3, 3), activation='relu', padding='same')(pool1)\n",
        "    pool2 = MaxPooling2D((2, 2))(conv2)\n",
        "    conv3 = Conv2D(128, (3, 3), activation='relu', padding='same')(pool2)\n",
        "    pool3 = MaxPooling2D((2, 2))(conv3)\n",
        "    conv4 = Conv2D(256, (3, 3), activation='relu', padding='same')(pool3)\n",
        "    pool4 = MaxPooling2D((2, 2))(conv4)\n",
        "    up1 = UpSampling2D((2, 2))(pool4)\n",
        "    conv5 = Conv2D(256, (3, 3), activation='relu', padding='same')(up1)\n",
        "    up2 = UpSampling2D((2, 2))(conv5)\n",
        "    conv6 = Conv2D(128, (3, 3), activation='relu', padding='same')(up2)\n",
        "    up3 = UpSampling2D((2, 2))(conv6)\n",
        "    conv7 = Conv2D(64, (3, 3), activation='relu', padding='same')(up3)\n",
        "    up4 = UpSampling2D((2, 2))(conv7)\n",
        "    conv8 = Conv2D(32, (3, 3), activation='relu', padding='same')(up4)\n",
        "    outputs = Conv2D(1, (1, 1), activation='sigmoid')(conv8)\n",
        "    model = Model(inputs=inputs, outputs=outputs)\n",
        "    return model"
      ],
      "metadata": {
        "id": "NPTbUVQ89MhW"
      },
      "execution_count": 3,
      "outputs": []
    },
    {
      "cell_type": "code",
      "source": [
        "# VGG16-based Model\n",
        "def vgg16_model(input_shape=(256, 256, 3)):\n",
        "    base_model = VGG16(weights='imagenet', include_top=False, input_shape=input_shape)\n",
        "    base_model.trainable = False\n",
        "    inputs = Input(input_shape)\n",
        "    x = base_model(inputs)\n",
        "    conv = Conv2D(512, (3, 3), activation='relu', padding='same')(x)\n",
        "    up1 = UpSampling2D((2, 2))(conv)\n",
        "    conv1 = Conv2D(256, (3, 3), activation='relu', padding='same')(up1)\n",
        "    up2 = UpSampling2D((2, 2))(conv1)\n",
        "    conv2 = Conv2D(128, (3, 3), activation='relu', padding='same')(up2)\n",
        "    up3 = UpSampling2D((2, 2))(conv2)\n",
        "    conv3 = Conv2D(64, (3, 3), activation='relu', padding='same')(up3)\n",
        "    up4 = UpSampling2D((2, 2))(conv3)\n",
        "    conv4 = Conv2D(32, (3, 3), activation='relu', padding='same')(up4)\n",
        "    up5 = UpSampling2D((2, 2))(conv4)\n",
        "    conv5 = Conv2D(16, (3, 3), activation='relu', padding='same')(up5)\n",
        "    outputs = Conv2D(1, (1, 1), activation='sigmoid', padding='same')(conv5)\n",
        "    model = Model(inputs=inputs, outputs=outputs)\n",
        "    return model"
      ],
      "metadata": {
        "id": "ac6_6WYR9SzV"
      },
      "execution_count": 17,
      "outputs": []
    },
    {
      "cell_type": "code",
      "source": [
        "# Define ResNet50-based model\n",
        "def resnet50_model(input_shape=(256, 256, 3)):\n",
        "    base_model = ResNet50(weights='imagenet', include_top=False, input_shape=input_shape)\n",
        "    base_model.trainable = False\n",
        "    inputs = Input(input_shape)\n",
        "    x = base_model(inputs)\n",
        "    conv = Conv2D(512, (3, 3), activation='relu', padding='same')(x)\n",
        "    up1 = UpSampling2D((2, 2))(conv)\n",
        "    conv1 = Conv2D(256, (3, 3), activation='relu', padding='same')(up1)\n",
        "    up2 = UpSampling2D((2, 2))(conv1)\n",
        "    conv2 = Conv2D(128, (3, 3), activation='relu', padding='same')(up2)\n",
        "    up3 = UpSampling2D((2, 2))(conv2)\n",
        "    conv3 = Conv2D(64, (3, 3), activation='relu', padding='same')(up3)\n",
        "    up4 = UpSampling2D((2, 2))(conv3)\n",
        "    conv4 = Conv2D(32, (3, 3), activation='relu', padding='same')(up4)\n",
        "    up5 = UpSampling2D((2, 2))(conv4)\n",
        "    conv5 = Conv2D(16, (3, 3), activation='relu', padding='same')(up5)\n",
        "    outputs = Conv2D(1, (1, 1), activation='sigmoid', padding='same')(conv5)\n",
        "    model = Model(inputs=inputs, outputs=outputs)\n",
        "    return model"
      ],
      "metadata": {
        "id": "cKM99lQ69DP2"
      },
      "execution_count": 18,
      "outputs": []
    },
    {
      "cell_type": "markdown",
      "source": [
        "# Training and Evaluation"
      ],
      "metadata": {
        "id": "Aev6uvwL9opf"
      }
    },
    {
      "cell_type": "code",
      "source": [
        "# Evaluation\n",
        "def compute_metrics(true, pred):\n",
        "    mse = np.mean((true - pred) ** 2)\n",
        "    mae = np.mean(np.abs(true - pred))\n",
        "    ssim_value = ssim(true.squeeze(), pred.squeeze(), data_range=pred.max() - pred.min())\n",
        "    return mse, mae, ssim_value"
      ],
      "metadata": {
        "id": "Fyft7E1C9rkD"
      },
      "execution_count": 19,
      "outputs": []
    },
    {
      "cell_type": "code",
      "source": [
        "simple_model = simple_model((256, 256, 3))\n",
        "vgg16_based_model = vgg16_model((256, 256, 3))\n",
        "resnet50_based_model = resnet50_model((256, 256, 3))\n",
        "\n",
        "simple_model.compile(optimizer=Adam(), loss=MeanSquaredError(), metrics=[MeanAbsoluteError()])\n",
        "vgg16_based_model.compile(optimizer=Adam(), loss=MeanSquaredError(), metrics=[MeanAbsoluteError()])\n",
        "resnet50_based_model.compile(optimizer=Adam(), loss=MeanSquaredError(), metrics=[MeanAbsoluteError()])"
      ],
      "metadata": {
        "id": "GAo56Q_V9x4y"
      },
      "execution_count": 20,
      "outputs": []
    },
    {
      "cell_type": "code",
      "source": [
        "# Training\n",
        "callbacks = [\n",
        "    EarlyStopping(patience=2, restore_best_weights=True),\n",
        "    ModelCheckpoint(\"model.h5\", save_best_only=True)\n",
        "]\n",
        "\n",
        "simple_model.fit(x_train, y_train, validation_data=(x_val, y_val), epochs=3, batch_size=32, callbacks=callbacks)\n",
        "vgg16_based_model.fit(x_train, y_train, validation_data=(x_val, y_val), epochs=3, batch_size=32, callbacks=callbacks)\n",
        "resnet50_based_model.fit(x_train, y_train, validation_data=(x_val, y_val), epochs=3, batch_size=32, callbacks=callbacks)"
      ],
      "metadata": {
        "colab": {
          "base_uri": "https://localhost:8080/"
        },
        "id": "62u4iZHx-E5E",
        "outputId": "47cabad5-971e-4ef4-9dd0-7927b96efbf6"
      },
      "execution_count": 21,
      "outputs": [
        {
          "output_type": "stream",
          "name": "stdout",
          "text": [
            "Epoch 1/3\n",
            "34/34 [==============================] - ETA: 0s - loss: 0.1586 - mean_absolute_error: 0.2815"
          ]
        },
        {
          "output_type": "stream",
          "name": "stderr",
          "text": [
            "/usr/local/lib/python3.10/dist-packages/keras/src/engine/training.py:3103: UserWarning: You are saving your model as an HDF5 file via `model.save()`. This file format is considered legacy. We recommend using instead the native Keras format, e.g. `model.save('my_model.keras')`.\n",
            "  saving_api.save_model(\n"
          ]
        },
        {
          "output_type": "stream",
          "name": "stdout",
          "text": [
            "\b\b\b\b\b\b\b\b\b\b\b\b\b\b\b\b\b\b\b\b\b\b\b\b\b\b\b\b\b\b\b\b\b\b\b\b\b\b\b\b\b\b\b\b\b\b\b\b\b\b\b\b\b\b\b\b\b\b\b\b\b\b\b\b\b\b\b\b\b\b\b\b\b\b\b\b\b\b\b\b\b\b\b\b\b\b\b\b\b\b\b\b\b\r34/34 [==============================] - 43s 671ms/step - loss: 0.1586 - mean_absolute_error: 0.2815 - val_loss: 0.1262 - val_mean_absolute_error: 0.2581\n",
            "Epoch 2/3\n",
            "34/34 [==============================] - 12s 356ms/step - loss: 0.1174 - mean_absolute_error: 0.2353 - val_loss: 0.1120 - val_mean_absolute_error: 0.1974\n",
            "Epoch 3/3\n",
            "34/34 [==============================] - 11s 329ms/step - loss: 0.1056 - mean_absolute_error: 0.2081 - val_loss: 0.1029 - val_mean_absolute_error: 0.2234\n",
            "Epoch 1/3\n",
            "34/34 [==============================] - 25s 489ms/step - loss: 0.1992 - mean_absolute_error: 0.2071 - val_loss: 0.1956 - val_mean_absolute_error: 0.1957\n",
            "Epoch 2/3\n",
            "34/34 [==============================] - 9s 269ms/step - loss: 0.1975 - mean_absolute_error: 0.1975 - val_loss: 0.1956 - val_mean_absolute_error: 0.1957\n",
            "Epoch 3/3\n",
            "34/34 [==============================] - 9s 279ms/step - loss: 0.1975 - mean_absolute_error: 0.1975 - val_loss: 0.1956 - val_mean_absolute_error: 0.1957\n"
          ]
        },
        {
          "output_type": "execute_result",
          "data": {
            "text/plain": [
              "<keras.src.callbacks.History at 0x7df650386890>"
            ]
          },
          "metadata": {},
          "execution_count": 21
        }
      ]
    },
    {
      "cell_type": "code",
      "source": [
        "# Save models\n",
        "simple_model.save('simple_cnn_model.h5')\n",
        "vgg16_based_model.save('vgg16_based_model.h5')\n",
        "resnet50_based_model.save('resnet50_based_model.h5')"
      ],
      "metadata": {
        "id": "onWcUgys-ZnY"
      },
      "execution_count": 22,
      "outputs": []
    },
    {
      "cell_type": "code",
      "source": [
        "# Evaluate models\n",
        "y_pred_simple = simple_model.predict(x_test)\n",
        "y_pred_vgg16 = vgg16_based_model.predict(x_test)\n",
        "y_pred_resnet50 = resnet50_based_model.predict(x_test)\n",
        "\n",
        "mse_cnn, mae_cnn, ssim_cnn = compute_metrics(y_test, y_pred_simple)\n",
        "mse_vgg16, mae_vgg16, ssim_vgg16 = compute_metrics(y_test, y_pred_vgg16)\n",
        "mse_resnet50, mae_resnet50, ssim_resnet50 = compute_metrics(y_test, y_pred_resnet50)\n",
        "\n",
        "print(f\"VGG16-based Model - MSE: {mse_vgg16}, MAE: {mae_vgg16}, SSIM: {ssim_vgg16}\")\n",
        "print(f\"ResNet50-based Model - MSE: {mse_resnet50}, MAE: {mae_resnet50}, SSIM: {ssim_resnet50}\")\n",
        "print(f\"Baseline Model - MSE: {mse_cnn}, MAE: {mae_cnn}, SSIM: {ssim_cnn}\")"
      ],
      "metadata": {
        "id": "6CS8d0je95C4",
        "colab": {
          "base_uri": "https://localhost:8080/"
        },
        "outputId": "5ec3e914-bbbf-47d2-c615-683c19c34f1a"
      },
      "execution_count": 24,
      "outputs": [
        {
          "output_type": "stream",
          "name": "stdout",
          "text": [
            "17/17 [==============================] - 10s 337ms/step\n",
            "17/17 [==============================] - 12s 726ms/step\n",
            "17/17 [==============================] - 6s 296ms/step\n",
            "VGG16-based Model - MSE: 0.11255288124084473, MAE: 0.24572539329528809, SSIM: 0.20753137231790972\n",
            "ResNet50-based Model - MSE: 0.15776506066322327, MAE: 0.1577674001455307, SSIM: nan\n",
            "Baseline Model - MSE: 0.06310500204563141, MAE: 0.10150318592786789, SSIM: 0.5488462264802839\n"
          ]
        },
        {
          "output_type": "stream",
          "name": "stderr",
          "text": [
            "/usr/local/lib/python3.10/dist-packages/skimage/metrics/_structural_similarity.py:230: RuntimeWarning: invalid value encountered in divide\n",
            "  S = (A1 * A2) / D\n"
          ]
        }
      ]
    }
  ]
}